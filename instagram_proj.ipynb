{
 "cells": [
  {
   "cell_type": "code",
   "execution_count": 1,
   "metadata": {},
   "outputs": [
    {
     "name": "stderr",
     "output_type": "stream",
     "text": [
      "c:\\Users\\anday\\anaconda3\\lib\\site-packages\\win_unicode_console\\__init__.py:31: RuntimeWarning: sys.stdin.encoding == 'utf-8', whereas sys.stdout.encoding == 'UTF-8', readline hook consumer may assume they are the same\n",
      "  readline_hook.enable(use_pyreadline=use_pyreadline)\n"
     ]
    }
   ],
   "source": [
    "import instaloader\n",
    "import pandas as pd "
   ]
  },
  {
   "cell_type": "code",
   "execution_count": 2,
   "metadata": {},
   "outputs": [
    {
     "name": "stdout",
     "output_type": "stream",
     "text": [
      "Login successful!\n",
      "Fetching data for gabriel_andaya14...\n"
     ]
    },
    {
     "name": "stderr",
     "output_type": "stream",
     "text": [
      "JSON Query to graphql/query: 401 Unauthorized - \"fail\" status, message \"Please wait a few minutes before you try again.\" when accessing https://www.instagram.com/graphql/query?query_hash=37479f2b8209594dde7facb0d904896a&variables=%7B%22id%22%3A%22177170456%22%2C%22first%22%3A12%7D [retrying; skip with ^C]\n",
      "JSON Query to graphql/query: 401 Unauthorized - \"fail\" status, message \"Please wait a few minutes before you try again.\" when accessing https://www.instagram.com/graphql/query?query_hash=37479f2b8209594dde7facb0d904896a&variables=%7B%22id%22%3A%22177170456%22%2C%22first%22%3A12%7D [retrying; skip with ^C]\n"
     ]
    },
    {
     "name": "stdout",
     "output_type": "stream",
     "text": [
      "An error occurred: JSON Query to graphql/query: 401 Unauthorized - \"fail\" status, message \"Please wait a few minutes before you try again.\" when accessing https://www.instagram.com/graphql/query?query_hash=37479f2b8209594dde7facb0d904896a&variables=%7B%22id%22%3A%22177170456%22%2C%22first%22%3A12%7D\n"
     ]
    }
   ],
   "source": [
    "import time  # To introduce delays between requests\n",
    "import instaloader\n",
    "\n",
    "# Initialize Instaloader\n",
    "loader = instaloader.Instaloader()\n",
    "loader.context.proxy = \"http://103.152.112.120:80\"  # Use your chosen proxy\n",
    "\n",
    "# Login\n",
    "username = input(\"Enter your Instagram username: \")\n",
    "password = input(\"Enter your Instagram password: \")\n",
    "\n",
    "try:\n",
    "    loader.login(username, password)\n",
    "    print(\"Login successful!\")\n",
    "except Exception as e:\n",
    "    print(f\"Login failed: {e}\")\n",
    "    exit()\n",
    "\n",
    "# Fetch followers and following with delays\n",
    "try:\n",
    "    profile = instaloader.Profile.from_username(loader.context, username)\n",
    "    print(f\"Fetching data for {username}...\")\n",
    "\n",
    "    # Get followers\n",
    "    followers = []\n",
    "    for follower in profile.get_followers():\n",
    "        followers.append(follower.username)\n",
    "        time.sleep(2)  # Add delay to avoid being rate-limited\n",
    "\n",
    "    # Get following\n",
    "    following = []\n",
    "    for followee in profile.get_followees():\n",
    "        following.append(followee.username)\n",
    "        time.sleep(2)  # Add delay\n",
    "\n",
    "    # Save data to text files\n",
    "    with open('followers.txt', 'w') as f:\n",
    "        f.write('\\n'.join(followers))\n",
    "    with open('following.txt', 'w') as f:\n",
    "        f.write('\\n'.join(following))\n",
    "    print(\"Data saved to 'followers.txt' and 'following.txt'.\")\n",
    "\n",
    "except Exception as e:\n",
    "    print(f\"An error occurred: {e}\")\n"
   ]
  },
  {
   "cell_type": "code",
   "execution_count": null,
   "metadata": {},
   "outputs": [],
   "source": []
  }
 ],
 "metadata": {
  "kernelspec": {
   "display_name": "base",
   "language": "python",
   "name": "python3"
  },
  "language_info": {
   "codemirror_mode": {
    "name": "ipython",
    "version": 3
   },
   "file_extension": ".py",
   "mimetype": "text/x-python",
   "name": "python",
   "nbconvert_exporter": "python",
   "pygments_lexer": "ipython3",
   "version": "3.9.13"
  }
 },
 "nbformat": 4,
 "nbformat_minor": 2
}
