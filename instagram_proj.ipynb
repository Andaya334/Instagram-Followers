{
 "cells": [
  {
   "cell_type": "code",
   "execution_count": null,
   "metadata": {},
   "outputs": [],
   "source": [
    "import pandas as pd\n",
    "import json\n",
    "import matplotlib"
   ]
  },
  {
   "cell_type": "markdown",
   "metadata": {},
   "source": [
    "#### Step 1: Load in the JSON files ####"
   ]
  },
  {
   "cell_type": "code",
   "execution_count": 12,
   "metadata": {},
   "outputs": [
    {
     "name": "stdout",
     "output_type": "stream",
     "text": [
      "Sample followers data:\n",
      "[{'title': '', 'media_list_data': [], 'string_list_data': [{'href': 'https://www.instagram.com/savitha15_m', 'value': 'savitha15_m', 'timestamp': 1734506383}]}, {'title': '', 'media_list_data': [], 'string_list_data': [{'href': 'https://www.instagram.com/robfromhb', 'value': 'robfromhb', 'timestamp': 1734363104}]}]\n",
      "\n",
      "Sample following data:\n",
      "[{'title': '', 'media_list_data': [], 'string_list_data': [{'href': 'https://www.instagram.com/savitha15_m', 'value': 'savitha15_m', 'timestamp': 1734451845}]}, {'title': '', 'media_list_data': [], 'string_list_data': [{'href': 'https://www.instagram.com/simply.yamomma', 'value': 'simply.yamomma', 'timestamp': 1734064744}]}]\n"
     ]
    }
   ],
   "source": [
    "# Load the data from JSON files\n",
    "with open(\"followers_and_following/followers_1.json\", \"r\") as f:\n",
    "    followers_data = json.load(f)\n",
    "\n",
    "with open(\"followers_and_following/following.json\", \"r\") as f:\n",
    "    following_data = json.load(f)\n",
    "\n",
    "# Print sample data to understand the structure\n",
    "print(\"Sample followers data:\")\n",
    "print(followers_data[:2])  # Print the first two records for followers\n",
    "\n",
    "print(\"\\nSample following data:\")\n",
    "print(following_data[\"relationships_following\"][:2])  # Print the first two records for following\n",
    "\n"
   ]
  },
  {
   "cell_type": "code",
   "execution_count": 14,
   "metadata": {},
   "outputs": [
    {
     "name": "stdout",
     "output_type": "stream",
     "text": [
      "Followers Data Sample:\n",
      "[{'title': '', 'media_list_data': [], 'string_list_data': [{'href': 'https://www.instagram.com/savitha15_m', 'value': 'savitha15_m', 'timestamp': 1734506383}]}, {'title': '', 'media_list_data': [], 'string_list_data': [{'href': 'https://www.instagram.com/robfromhb', 'value': 'robfromhb', 'timestamp': 1734363104}]}]\n",
      "\n",
      "Following Data Sample:\n",
      "[{'title': '', 'media_list_data': [], 'string_list_data': [{'href': 'https://www.instagram.com/savitha15_m', 'value': 'savitha15_m', 'timestamp': 1734451845}]}, {'title': '', 'media_list_data': [], 'string_list_data': [{'href': 'https://www.instagram.com/simply.yamomma', 'value': 'simply.yamomma', 'timestamp': 1734064744}]}]\n"
     ]
    }
   ],
   "source": [
    "# Inspect followers data\n",
    "print(\"Followers Data Sample:\")\n",
    "print(followers_data[:2])  # Print the first 2 records of followers\n",
    "\n",
    "# Inspect following data\n",
    "print(\"\\nFollowing Data Sample:\")\n",
    "print(following_data[\"relationships_following\"][:2])  # Print the first 2 records of following\n"
   ]
  },
  {
   "cell_type": "code",
   "execution_count": 40,
   "metadata": {},
   "outputs": [
    {
     "name": "stdout",
     "output_type": "stream",
     "text": [
      "Unique followers: 119\n",
      "Duplicates in followers: 0\n",
      "Unique following: 141\n",
      "Duplicates in following: 0\n"
     ]
    }
   ],
   "source": [
    "# Check for duplicates or empty entries in followers\n",
    "followers_usernames = [item[\"string_list_data\"][0][\"value\"] for item in followers_data]\n",
    "print(f\"Unique followers: {len(set(followers_usernames))}\")\n",
    "print(f\"Duplicates in followers: {len(followers_usernames) - len(set(followers_usernames))}\")\n",
    "\n",
    "# Check for duplicates or empty entries in following\n",
    "following_usernames = [item[\"string_list_data\"][0][\"value\"] for item in following_data[\"relationships_following\"]]\n",
    "print(f\"Unique following: {len(set(following_usernames))}\")\n",
    "print(f\"Duplicates in following: {len(following_usernames) - len(set(following_usernames))}\")\n"
   ]
  },
  {
   "cell_type": "markdown",
   "metadata": {},
   "source": [
    "#### Step 2: Convert Data into Pandas Dataframe ####"
   ]
  },
  {
   "cell_type": "code",
   "execution_count": 16,
   "metadata": {},
   "outputs": [
    {
     "name": "stdout",
     "output_type": "stream",
     "text": [
      "Followers DataFrame:\n",
      "         username\n",
      "0     savitha15_m\n",
      "1       robfromhb\n",
      "2  simply.yamomma\n",
      "3    korinazamora\n",
      "4         erin_y_\n",
      "\n",
      "Following DataFrame:\n",
      "         username\n",
      "0     savitha15_m\n",
      "1  simply.yamomma\n",
      "2         erin_y_\n",
      "3     j.azmiiinee\n",
      "4    korinazamora\n"
     ]
    }
   ],
   "source": [
    "# Extract followers' usernames\n",
    "followers = [item[\"string_list_data\"][0][\"value\"] for item in followers_data]\n",
    "followers_df = pd.DataFrame(followers, columns=[\"username\"])\n",
    "\n",
    "# Extract following usernames\n",
    "following = [item[\"string_list_data\"][0][\"value\"] for item in following_data[\"relationships_following\"]]\n",
    "following_df = pd.DataFrame(following, columns=[\"username\"])\n",
    "\n",
    "# Print the first few rows of each DataFrame\n",
    "print(\"Followers DataFrame:\")\n",
    "print(followers_df.head())\n",
    "\n",
    "print(\"\\nFollowing DataFrame:\")\n",
    "print(following_df.head())\n"
   ]
  },
  {
   "cell_type": "code",
   "execution_count": 37,
   "metadata": {},
   "outputs": [
    {
     "data": {
      "text/plain": [
       "(119, 1)"
      ]
     },
     "execution_count": 37,
     "metadata": {},
     "output_type": "execute_result"
    }
   ],
   "source": []
  },
  {
   "cell_type": "markdown",
   "metadata": {},
   "source": [
    "#### Step 3: Find the Differences ####\n",
    "\n",
    "Goal:\\\n",
    "Identify users who follow you but you don't follow back.\\\n",
    "Identify users who you follow but they don't follow you back.\n"
   ]
  },
  {
   "cell_type": "code",
   "execution_count": 23,
   "metadata": {},
   "outputs": [
    {
     "name": "stdout",
     "output_type": "stream",
     "text": [
      "People who follow you but you don't follow back:\n"
     ]
    },
    {
     "data": {
      "text/html": [
       "<div>\n",
       "<style scoped>\n",
       "    .dataframe tbody tr th:only-of-type {\n",
       "        vertical-align: middle;\n",
       "    }\n",
       "\n",
       "    .dataframe tbody tr th {\n",
       "        vertical-align: top;\n",
       "    }\n",
       "\n",
       "    .dataframe thead th {\n",
       "        text-align: right;\n",
       "    }\n",
       "</style>\n",
       "<table border=\"1\" class=\"dataframe\">\n",
       "  <thead>\n",
       "    <tr style=\"text-align: right;\">\n",
       "      <th></th>\n",
       "      <th>username</th>\n",
       "    </tr>\n",
       "  </thead>\n",
       "  <tbody>\n",
       "    <tr>\n",
       "      <th>1</th>\n",
       "      <td>robfromhb</td>\n",
       "    </tr>\n",
       "    <tr>\n",
       "      <th>33</th>\n",
       "      <td>ashleighdee_</td>\n",
       "    </tr>\n",
       "    <tr>\n",
       "      <th>72</th>\n",
       "      <td>lillysjuicebar</td>\n",
       "    </tr>\n",
       "    <tr>\n",
       "      <th>76</th>\n",
       "      <td>vanessaoliva_</td>\n",
       "    </tr>\n",
       "    <tr>\n",
       "      <th>84</th>\n",
       "      <td>graciebarracorona</td>\n",
       "    </tr>\n",
       "    <tr>\n",
       "      <th>85</th>\n",
       "      <td>mariaxfloresss</td>\n",
       "    </tr>\n",
       "    <tr>\n",
       "      <th>98</th>\n",
       "      <td>sandra_shankal</td>\n",
       "    </tr>\n",
       "    <tr>\n",
       "      <th>102</th>\n",
       "      <td>vzavala28</td>\n",
       "    </tr>\n",
       "    <tr>\n",
       "      <th>105</th>\n",
       "      <td>clonesyperifericos_usa</td>\n",
       "    </tr>\n",
       "    <tr>\n",
       "      <th>108</th>\n",
       "      <td>sunday.at.8</td>\n",
       "    </tr>\n",
       "  </tbody>\n",
       "</table>\n",
       "</div>"
      ],
      "text/plain": [
       "                   username\n",
       "1                 robfromhb\n",
       "33             ashleighdee_\n",
       "72           lillysjuicebar\n",
       "76            vanessaoliva_\n",
       "84        graciebarracorona\n",
       "85           mariaxfloresss\n",
       "98           sandra_shankal\n",
       "102               vzavala28\n",
       "105  clonesyperifericos_usa\n",
       "108             sunday.at.8"
      ]
     },
     "execution_count": 23,
     "metadata": {},
     "output_type": "execute_result"
    }
   ],
   "source": [
    "# Find users who follow you but you don't follow back\n",
    "followers_not_following_back = followers_df[~followers_df[\"username\"].isin(following_df[\"username\"])]\n",
    "\n",
    "# Find users you follow but who don't follow you back\n",
    "following_not_followed_back = following_df[~following_df[\"username\"].isin(followers_df[\"username\"])]\n",
    "\n",
    "# Print results\n",
    "print(\"People who follow you but you don't follow back:\")\n",
    "followers_not_following_back\n"
   ]
  },
  {
   "cell_type": "code",
   "execution_count": 36,
   "metadata": {},
   "outputs": [
    {
     "data": {
      "text/plain": [
       "username    10\n",
       "dtype: int64"
      ]
     },
     "execution_count": 36,
     "metadata": {},
     "output_type": "execute_result"
    }
   ],
   "source": [
    "#Count of followers you don't follow back\n",
    "followers_not_following_back.count()"
   ]
  },
  {
   "cell_type": "code",
   "execution_count": 20,
   "metadata": {},
   "outputs": [
    {
     "name": "stdout",
     "output_type": "stream",
     "text": [
      "\n",
      "People you follow but they don't follow you back:\n"
     ]
    },
    {
     "data": {
      "text/html": [
       "<div>\n",
       "<style scoped>\n",
       "    .dataframe tbody tr th:only-of-type {\n",
       "        vertical-align: middle;\n",
       "    }\n",
       "\n",
       "    .dataframe tbody tr th {\n",
       "        vertical-align: top;\n",
       "    }\n",
       "\n",
       "    .dataframe thead th {\n",
       "        text-align: right;\n",
       "    }\n",
       "</style>\n",
       "<table border=\"1\" class=\"dataframe\">\n",
       "  <thead>\n",
       "    <tr style=\"text-align: right;\">\n",
       "      <th></th>\n",
       "      <th>username</th>\n",
       "    </tr>\n",
       "  </thead>\n",
       "  <tbody>\n",
       "    <tr>\n",
       "      <th>5</th>\n",
       "      <td>manda_schoon</td>\n",
       "    </tr>\n",
       "    <tr>\n",
       "      <th>8</th>\n",
       "      <td>itz___grace</td>\n",
       "    </tr>\n",
       "    <tr>\n",
       "      <th>10</th>\n",
       "      <td>realtorbrittneyliz</td>\n",
       "    </tr>\n",
       "    <tr>\n",
       "      <th>35</th>\n",
       "      <td>lyssa_duran</td>\n",
       "    </tr>\n",
       "    <tr>\n",
       "      <th>53</th>\n",
       "      <td>feedthecatsucsd</td>\n",
       "    </tr>\n",
       "    <tr>\n",
       "      <th>58</th>\n",
       "      <td>sungodsoccerucsd</td>\n",
       "    </tr>\n",
       "    <tr>\n",
       "      <th>64</th>\n",
       "      <td>it_be_me_marc</td>\n",
       "    </tr>\n",
       "    <tr>\n",
       "      <th>76</th>\n",
       "      <td>garagem_bjj_bones</td>\n",
       "    </tr>\n",
       "    <tr>\n",
       "      <th>79</th>\n",
       "      <td>angiechavarriii</td>\n",
       "    </tr>\n",
       "    <tr>\n",
       "      <th>86</th>\n",
       "      <td>nhfintl</td>\n",
       "    </tr>\n",
       "    <tr>\n",
       "      <th>87</th>\n",
       "      <td>a.j._polder</td>\n",
       "    </tr>\n",
       "    <tr>\n",
       "      <th>88</th>\n",
       "      <td>ucsdalumni</td>\n",
       "    </tr>\n",
       "    <tr>\n",
       "      <th>93</th>\n",
       "      <td>kings_anaheim</td>\n",
       "    </tr>\n",
       "    <tr>\n",
       "      <th>94</th>\n",
       "      <td>provieweye</td>\n",
       "    </tr>\n",
       "    <tr>\n",
       "      <th>98</th>\n",
       "      <td>diegopatojj</td>\n",
       "    </tr>\n",
       "    <tr>\n",
       "      <th>103</th>\n",
       "      <td>lavendrbones</td>\n",
       "    </tr>\n",
       "    <tr>\n",
       "      <th>105</th>\n",
       "      <td>micagalvaojj</td>\n",
       "    </tr>\n",
       "    <tr>\n",
       "      <th>109</th>\n",
       "      <td>coffeewcrystal</td>\n",
       "    </tr>\n",
       "    <tr>\n",
       "      <th>110</th>\n",
       "      <td>limitedwill</td>\n",
       "    </tr>\n",
       "    <tr>\n",
       "      <th>114</th>\n",
       "      <td>wardziak_bjj</td>\n",
       "    </tr>\n",
       "    <tr>\n",
       "      <th>116</th>\n",
       "      <td>ucsdgradfamilyhousing</td>\n",
       "    </tr>\n",
       "    <tr>\n",
       "      <th>117</th>\n",
       "      <td>eddiesubia</td>\n",
       "    </tr>\n",
       "    <tr>\n",
       "      <th>119</th>\n",
       "      <td>splashhouse</td>\n",
       "    </tr>\n",
       "    <tr>\n",
       "      <th>121</th>\n",
       "      <td>xii.imenaa</td>\n",
       "    </tr>\n",
       "    <tr>\n",
       "      <th>124</th>\n",
       "      <td>cdeluco95</td>\n",
       "    </tr>\n",
       "    <tr>\n",
       "      <th>127</th>\n",
       "      <td>vainsofroses</td>\n",
       "    </tr>\n",
       "    <tr>\n",
       "      <th>130</th>\n",
       "      <td>notorious_foodie</td>\n",
       "    </tr>\n",
       "    <tr>\n",
       "      <th>131</th>\n",
       "      <td>zrod94</td>\n",
       "    </tr>\n",
       "    <tr>\n",
       "      <th>132</th>\n",
       "      <td>el_hernandez73</td>\n",
       "    </tr>\n",
       "    <tr>\n",
       "      <th>136</th>\n",
       "      <td>hall_of_tech</td>\n",
       "    </tr>\n",
       "    <tr>\n",
       "      <th>138</th>\n",
       "      <td>federalstudentaid</td>\n",
       "    </tr>\n",
       "    <tr>\n",
       "      <th>140</th>\n",
       "      <td>kevinfigueroabjj</td>\n",
       "    </tr>\n",
       "  </tbody>\n",
       "</table>\n",
       "</div>"
      ],
      "text/plain": [
       "                  username\n",
       "5             manda_schoon\n",
       "8              itz___grace\n",
       "10      realtorbrittneyliz\n",
       "35             lyssa_duran\n",
       "53         feedthecatsucsd\n",
       "58        sungodsoccerucsd\n",
       "64           it_be_me_marc\n",
       "76       garagem_bjj_bones\n",
       "79         angiechavarriii\n",
       "86                 nhfintl\n",
       "87             a.j._polder\n",
       "88              ucsdalumni\n",
       "93           kings_anaheim\n",
       "94              provieweye\n",
       "98             diegopatojj\n",
       "103           lavendrbones\n",
       "105           micagalvaojj\n",
       "109         coffeewcrystal\n",
       "110            limitedwill\n",
       "114           wardziak_bjj\n",
       "116  ucsdgradfamilyhousing\n",
       "117             eddiesubia\n",
       "119            splashhouse\n",
       "121             xii.imenaa\n",
       "124              cdeluco95\n",
       "127           vainsofroses\n",
       "130       notorious_foodie\n",
       "131                 zrod94\n",
       "132         el_hernandez73\n",
       "136           hall_of_tech\n",
       "138      federalstudentaid\n",
       "140       kevinfigueroabjj"
      ]
     },
     "execution_count": 20,
     "metadata": {},
     "output_type": "execute_result"
    }
   ],
   "source": [
    "print(\"\\nPeople you follow but they don't follow you back:\")\n",
    "following_not_followed_back"
   ]
  },
  {
   "cell_type": "code",
   "execution_count": 35,
   "metadata": {},
   "outputs": [
    {
     "data": {
      "text/plain": [
       "username    32\n",
       "dtype: int64"
      ]
     },
     "execution_count": 35,
     "metadata": {},
     "output_type": "execute_result"
    }
   ],
   "source": [
    "#Count of accounts you follow but don't follow back\n",
    "following_not_followed_back.count()"
   ]
  },
  {
   "cell_type": "code",
   "execution_count": 34,
   "metadata": {},
   "outputs": [
    {
     "name": "stdout",
     "output_type": "stream",
     "text": [
      "Total Followers: 119\n",
      "Total Following: 141\n",
      "People who follow you but you don't follow back: 10\n",
      "People you follow but they don't follow you back: 32\n"
     ]
    }
   ],
   "source": [
    "# Key Metrics\n",
    "total_followers = len(followers_df)\n",
    "total_following = len(following_df)\n",
    "not_following_back_count = len(followers_not_following_back)\n",
    "not_followed_back_count = len(following_not_followed_back)\n",
    "\n",
    "# Print Metrics\n",
    "print(f\"Total Followers: {total_followers}\")\n",
    "print(f\"Total Following: {total_following}\")\n",
    "print(f\"People who follow you but you don't follow back: {not_following_back_count}\")\n",
    "print(f\"People you follow but they don't follow you back: {not_followed_back_count}\")\n"
   ]
  },
  {
   "cell_type": "code",
   "execution_count": null,
   "metadata": {},
   "outputs": [],
   "source": []
  }
 ],
 "metadata": {
  "kernelspec": {
   "display_name": "base",
   "language": "python",
   "name": "python3"
  },
  "language_info": {
   "codemirror_mode": {
    "name": "ipython",
    "version": 3
   },
   "file_extension": ".py",
   "mimetype": "text/x-python",
   "name": "python",
   "nbconvert_exporter": "python",
   "pygments_lexer": "ipython3",
   "version": "3.9.13"
  }
 },
 "nbformat": 4,
 "nbformat_minor": 2
}
