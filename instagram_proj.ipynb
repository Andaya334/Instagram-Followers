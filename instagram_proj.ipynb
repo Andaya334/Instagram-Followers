{
 "cells": [
  {
   "cell_type": "code",
   "execution_count": 1,
   "metadata": {},
   "outputs": [],
   "source": [
    "import pandas as pd\n",
    "import json\n",
    "import requests"
   ]
  },
  {
   "cell_type": "markdown",
   "metadata": {},
   "source": [
    "#### Step 1: Load in the JSON files ####"
   ]
  },
  {
   "cell_type": "code",
   "execution_count": 3,
   "metadata": {},
   "outputs": [
    {
     "name": "stdout",
     "output_type": "stream",
     "text": [
      "Sample followers data:\n",
      "[{'title': '', 'media_list_data': [], 'string_list_data': [{'href': 'https://www.instagram.com/nxxelani', 'value': 'nxxelani', 'timestamp': 1735458644}]}, {'title': '', 'media_list_data': [], 'string_list_data': [{'href': 'https://www.instagram.com/chandni.jivrajani', 'value': 'chandni.jivrajani', 'timestamp': 1734870369}]}]\n",
      "\n",
      "Sample following data:\n",
      "[{'title': '', 'media_list_data': [], 'string_list_data': [{'href': 'https://www.instagram.com/nxxelani', 'value': 'nxxelani', 'timestamp': 1735453444}]}, {'title': '', 'media_list_data': [], 'string_list_data': [{'href': 'https://www.instagram.com/chandni.jivrajani', 'value': 'chandni.jivrajani', 'timestamp': 1734870663}]}]\n"
     ]
    }
   ],
   "source": [
    "# Load the data from JSON files\n",
    "with open(\"followers_1.json\", \"r\") as f:\n",
    "    followers_data = json.load(f)\n",
    "\n",
    "with open(\"following.json\", \"r\") as f:\n",
    "    following_data = json.load(f)\n",
    "\n",
    "# Print sample data to understand the structure\n",
    "print(\"Sample followers data:\")\n",
    "print(followers_data[:2])  # Print the first two records for followers\n",
    "\n",
    "print(\"\\nSample following data:\")\n",
    "print(following_data[\"relationships_following\"][:2])  # Print the first two records for following\n",
    "\n"
   ]
  },
  {
   "cell_type": "code",
   "execution_count": 4,
   "metadata": {},
   "outputs": [
    {
     "name": "stdout",
     "output_type": "stream",
     "text": [
      "Followers Data Sample:\n",
      "[{'title': '', 'media_list_data': [], 'string_list_data': [{'href': 'https://www.instagram.com/nxxelani', 'value': 'nxxelani', 'timestamp': 1735458644}]}, {'title': '', 'media_list_data': [], 'string_list_data': [{'href': 'https://www.instagram.com/chandni.jivrajani', 'value': 'chandni.jivrajani', 'timestamp': 1734870369}]}]\n",
      "\n",
      "Following Data Sample:\n",
      "[{'title': '', 'media_list_data': [], 'string_list_data': [{'href': 'https://www.instagram.com/nxxelani', 'value': 'nxxelani', 'timestamp': 1735453444}]}, {'title': '', 'media_list_data': [], 'string_list_data': [{'href': 'https://www.instagram.com/chandni.jivrajani', 'value': 'chandni.jivrajani', 'timestamp': 1734870663}]}]\n"
     ]
    }
   ],
   "source": [
    "# Inspect followers data\n",
    "print(\"Followers Data Sample:\")\n",
    "print(followers_data[:2])  # Print the first 2 records of followers\n",
    "\n",
    "# Inspect following data\n",
    "print(\"\\nFollowing Data Sample:\")\n",
    "print(following_data[\"relationships_following\"][:2])  # Print the first 2 records of following\n"
   ]
  },
  {
   "cell_type": "code",
   "execution_count": 5,
   "metadata": {},
   "outputs": [
    {
     "name": "stdout",
     "output_type": "stream",
     "text": [
      "Unique followers: 1074\n",
      "Duplicates in followers: 0\n",
      "Unique following: 1026\n",
      "Duplicates in following: 0\n"
     ]
    }
   ],
   "source": [
    "# Check for duplicates or empty entries in followers\n",
    "followers_usernames = [item[\"string_list_data\"][0][\"value\"] for item in followers_data]\n",
    "print(f\"Unique followers: {len(set(followers_usernames))}\")\n",
    "print(f\"Duplicates in followers: {len(followers_usernames) - len(set(followers_usernames))}\")\n",
    "\n",
    "# Check for duplicates or empty entries in following\n",
    "following_usernames = [item[\"string_list_data\"][0][\"value\"] for item in following_data[\"relationships_following\"]]\n",
    "print(f\"Unique following: {len(set(following_usernames))}\")\n",
    "print(f\"Duplicates in following: {len(following_usernames) - len(set(following_usernames))}\")\n"
   ]
  },
  {
   "cell_type": "markdown",
   "metadata": {},
   "source": [
    "#### Step 2: Convert Data into Pandas Dataframe ####"
   ]
  },
  {
   "cell_type": "code",
   "execution_count": 6,
   "metadata": {},
   "outputs": [
    {
     "name": "stdout",
     "output_type": "stream",
     "text": [
      "Followers DataFrame:\n",
      "            username\n",
      "0           nxxelani\n",
      "1  chandni.jivrajani\n",
      "2      hargun.kkohli\n",
      "3        savitha15_m\n",
      "4          robfromhb\n",
      "\n",
      "Following DataFrame:\n",
      "            username\n",
      "0           nxxelani\n",
      "1  chandni.jivrajani\n",
      "2      hargun.kkohli\n",
      "3        savitha15_m\n",
      "4     simply.yamomma\n"
     ]
    }
   ],
   "source": [
    "# Extract followers' usernames\n",
    "followers = [item[\"string_list_data\"][0][\"value\"] for item in followers_data]\n",
    "followers_df = pd.DataFrame(followers, columns=[\"username\"])\n",
    "\n",
    "# Extract following usernames\n",
    "following = [item[\"string_list_data\"][0][\"value\"] for item in following_data[\"relationships_following\"]]\n",
    "following_df = pd.DataFrame(following, columns=[\"username\"])\n",
    "\n",
    "# Print the first few rows of each DataFrame\n",
    "print(\"Followers DataFrame:\")\n",
    "print(followers_df.head())\n",
    "\n",
    "print(\"\\nFollowing DataFrame:\")\n",
    "print(following_df.head())\n"
   ]
  },
  {
   "cell_type": "code",
   "execution_count": null,
   "metadata": {},
   "outputs": [],
   "source": []
  },
  {
   "cell_type": "markdown",
   "metadata": {},
   "source": [
    "#### Step 3: Find the Differences ####\n",
    "\n",
    "Goal:\\\n",
    "Identify users who follow you but you don't follow back.\\\n",
    "Identify users who you follow but they don't follow you back.\n"
   ]
  },
  {
   "cell_type": "code",
   "execution_count": 7,
   "metadata": {},
   "outputs": [
    {
     "name": "stdout",
     "output_type": "stream",
     "text": [
      "People who follow you but you don't follow back:\n"
     ]
    },
    {
     "data": {
      "text/html": [
       "<div>\n",
       "<style scoped>\n",
       "    .dataframe tbody tr th:only-of-type {\n",
       "        vertical-align: middle;\n",
       "    }\n",
       "\n",
       "    .dataframe tbody tr th {\n",
       "        vertical-align: top;\n",
       "    }\n",
       "\n",
       "    .dataframe thead th {\n",
       "        text-align: right;\n",
       "    }\n",
       "</style>\n",
       "<table border=\"1\" class=\"dataframe\">\n",
       "  <thead>\n",
       "    <tr style=\"text-align: right;\">\n",
       "      <th></th>\n",
       "      <th>username</th>\n",
       "    </tr>\n",
       "  </thead>\n",
       "  <tbody>\n",
       "    <tr>\n",
       "      <th>75</th>\n",
       "      <td>lillysjuicebar</td>\n",
       "    </tr>\n",
       "    <tr>\n",
       "      <th>105</th>\n",
       "      <td>vzavala28</td>\n",
       "    </tr>\n",
       "    <tr>\n",
       "      <th>108</th>\n",
       "      <td>clonesyperifericos_usa</td>\n",
       "    </tr>\n",
       "    <tr>\n",
       "      <th>111</th>\n",
       "      <td>sunday.at.8</td>\n",
       "    </tr>\n",
       "    <tr>\n",
       "      <th>134</th>\n",
       "      <td>hamburglry</td>\n",
       "    </tr>\n",
       "    <tr>\n",
       "      <th>...</th>\n",
       "      <td>...</td>\n",
       "    </tr>\n",
       "    <tr>\n",
       "      <th>1041</th>\n",
       "      <td>alb1995</td>\n",
       "    </tr>\n",
       "    <tr>\n",
       "      <th>1043</th>\n",
       "      <td>eat_my_bagel</td>\n",
       "    </tr>\n",
       "    <tr>\n",
       "      <th>1046</th>\n",
       "      <td>tri_cera_top</td>\n",
       "    </tr>\n",
       "    <tr>\n",
       "      <th>1055</th>\n",
       "      <td>fakenews98765432</td>\n",
       "    </tr>\n",
       "    <tr>\n",
       "      <th>1056</th>\n",
       "      <td>marcellouzadobjj</td>\n",
       "    </tr>\n",
       "  </tbody>\n",
       "</table>\n",
       "<p>238 rows × 1 columns</p>\n",
       "</div>"
      ],
      "text/plain": [
       "                    username\n",
       "75            lillysjuicebar\n",
       "105                vzavala28\n",
       "108   clonesyperifericos_usa\n",
       "111              sunday.at.8\n",
       "134               hamburglry\n",
       "...                      ...\n",
       "1041                 alb1995\n",
       "1043            eat_my_bagel\n",
       "1046            tri_cera_top\n",
       "1055        fakenews98765432\n",
       "1056        marcellouzadobjj\n",
       "\n",
       "[238 rows x 1 columns]"
      ]
     },
     "execution_count": 7,
     "metadata": {},
     "output_type": "execute_result"
    }
   ],
   "source": [
    "# Find users who follow you but you don't follow back\n",
    "followers_not_following_back = followers_df[~followers_df[\"username\"].isin(following_df[\"username\"])]\n",
    "\n",
    "# Find users you follow but who don't follow you back\n",
    "following_not_followed_back = following_df[~following_df[\"username\"].isin(followers_df[\"username\"])]\n",
    "\n",
    "# Print results\n",
    "print(\"People who follow you but you don't follow back:\")\n",
    "followers_not_following_back\n"
   ]
  },
  {
   "cell_type": "code",
   "execution_count": 8,
   "metadata": {},
   "outputs": [
    {
     "data": {
      "text/plain": [
       "username    238\n",
       "dtype: int64"
      ]
     },
     "execution_count": 8,
     "metadata": {},
     "output_type": "execute_result"
    }
   ],
   "source": [
    "#Count of followers you don't follow back\n",
    "followers_not_following_back.count()"
   ]
  },
  {
   "cell_type": "code",
   "execution_count": 9,
   "metadata": {},
   "outputs": [
    {
     "name": "stdout",
     "output_type": "stream",
     "text": [
      "\n",
      "People you follow but they don't follow you back:\n"
     ]
    },
    {
     "data": {
      "text/html": [
       "<div>\n",
       "<style scoped>\n",
       "    .dataframe tbody tr th:only-of-type {\n",
       "        vertical-align: middle;\n",
       "    }\n",
       "\n",
       "    .dataframe tbody tr th {\n",
       "        vertical-align: top;\n",
       "    }\n",
       "\n",
       "    .dataframe thead th {\n",
       "        text-align: right;\n",
       "    }\n",
       "</style>\n",
       "<table border=\"1\" class=\"dataframe\">\n",
       "  <thead>\n",
       "    <tr style=\"text-align: right;\">\n",
       "      <th></th>\n",
       "      <th>username</th>\n",
       "    </tr>\n",
       "  </thead>\n",
       "  <tbody>\n",
       "    <tr>\n",
       "      <th>8</th>\n",
       "      <td>manda_schoon</td>\n",
       "    </tr>\n",
       "    <tr>\n",
       "      <th>12</th>\n",
       "      <td>realtorbrittneyliz</td>\n",
       "    </tr>\n",
       "    <tr>\n",
       "      <th>37</th>\n",
       "      <td>lyssa_duran</td>\n",
       "    </tr>\n",
       "    <tr>\n",
       "      <th>55</th>\n",
       "      <td>feedthecatsucsd</td>\n",
       "    </tr>\n",
       "    <tr>\n",
       "      <th>60</th>\n",
       "      <td>sungodsoccerucsd</td>\n",
       "    </tr>\n",
       "    <tr>\n",
       "      <th>...</th>\n",
       "      <td>...</td>\n",
       "    </tr>\n",
       "    <tr>\n",
       "      <th>984</th>\n",
       "      <td>tiffanykalhor</td>\n",
       "    </tr>\n",
       "    <tr>\n",
       "      <th>992</th>\n",
       "      <td>aliviamaay</td>\n",
       "    </tr>\n",
       "    <tr>\n",
       "      <th>997</th>\n",
       "      <td>makennacarr</td>\n",
       "    </tr>\n",
       "    <tr>\n",
       "      <th>1019</th>\n",
       "      <td>_trregarro</td>\n",
       "    </tr>\n",
       "    <tr>\n",
       "      <th>1023</th>\n",
       "      <td>tiffanyphaan</td>\n",
       "    </tr>\n",
       "  </tbody>\n",
       "</table>\n",
       "<p>190 rows × 1 columns</p>\n",
       "</div>"
      ],
      "text/plain": [
       "                username\n",
       "8           manda_schoon\n",
       "12    realtorbrittneyliz\n",
       "37           lyssa_duran\n",
       "55       feedthecatsucsd\n",
       "60      sungodsoccerucsd\n",
       "...                  ...\n",
       "984        tiffanykalhor\n",
       "992           aliviamaay\n",
       "997          makennacarr\n",
       "1019          _trregarro\n",
       "1023        tiffanyphaan\n",
       "\n",
       "[190 rows x 1 columns]"
      ]
     },
     "execution_count": 9,
     "metadata": {},
     "output_type": "execute_result"
    }
   ],
   "source": [
    "print(\"\\nPeople you follow but they don't follow you back:\")\n",
    "following_not_followed_back"
   ]
  },
  {
   "cell_type": "code",
   "execution_count": 10,
   "metadata": {},
   "outputs": [
    {
     "data": {
      "text/plain": [
       "username    190\n",
       "dtype: int64"
      ]
     },
     "execution_count": 10,
     "metadata": {},
     "output_type": "execute_result"
    }
   ],
   "source": [
    "#Count of accounts you follow but don't follow back\n",
    "following_not_followed_back.count()"
   ]
  },
  {
   "cell_type": "code",
   "execution_count": 11,
   "metadata": {},
   "outputs": [
    {
     "name": "stdout",
     "output_type": "stream",
     "text": [
      "Total Followers: 1074\n",
      "Total Following: 1026\n",
      "People who follow you but you don't follow back: 238\n",
      "People you follow but they don't follow you back: 190\n"
     ]
    }
   ],
   "source": [
    "# Key Metrics\n",
    "total_followers = len(followers_df)\n",
    "total_following = len(following_df)\n",
    "not_following_back_count = len(followers_not_following_back)\n",
    "not_followed_back_count = len(following_not_followed_back)\n",
    "\n",
    "# Print Metrics\n",
    "print(f\"Total Followers: {total_followers}\")\n",
    "print(f\"Total Following: {total_following}\")\n",
    "print(f\"People who follow you but you don't follow back: {not_following_back_count}\")\n",
    "print(f\"People you follow but they don't follow you back: {not_followed_back_count}\")\n"
   ]
  },
  {
   "cell_type": "code",
   "execution_count": null,
   "metadata": {},
   "outputs": [],
   "source": []
  }
 ],
 "metadata": {
  "kernelspec": {
   "display_name": "base",
   "language": "python",
   "name": "python3"
  },
  "language_info": {
   "codemirror_mode": {
    "name": "ipython",
    "version": 3
   },
   "file_extension": ".py",
   "mimetype": "text/x-python",
   "name": "python",
   "nbconvert_exporter": "python",
   "pygments_lexer": "ipython3",
   "version": "3.9.13"
  }
 },
 "nbformat": 4,
 "nbformat_minor": 2
}
